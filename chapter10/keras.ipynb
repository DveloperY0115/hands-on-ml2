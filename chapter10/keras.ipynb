{
 "cells": [
  {
   "cell_type": "code",
   "execution_count": 1,
   "metadata": {},
   "outputs": [],
   "source": [
    "from tensorflow import keras"
   ]
  },
  {
   "cell_type": "markdown",
   "metadata": {},
   "source": [
    "## Keras Sequential API 이용하여 이미지 분류기 만들기"
   ]
  },
  {
   "cell_type": "markdown",
   "metadata": {},
   "source": [
    "### 데이터 로드"
   ]
  },
  {
   "cell_type": "code",
   "execution_count": 2,
   "metadata": {},
   "outputs": [],
   "source": [
    "fashion_mnist = keras.datasets.fashion_mnist\n",
    "(X_train_full, y_train_full), (X_test_full, y_test_full) = fashion_mnist.load_data()"
   ]
  },
  {
   "cell_type": "code",
   "execution_count": 3,
   "metadata": {},
   "outputs": [
    {
     "data": {
      "text/plain": [
       "(60000, 28, 28)"
      ]
     },
     "execution_count": 3,
     "metadata": {},
     "output_type": "execute_result"
    }
   ],
   "source": [
    "X_train_full.shape"
   ]
  },
  {
   "cell_type": "code",
   "execution_count": 4,
   "metadata": {},
   "outputs": [
    {
     "data": {
      "text/plain": [
       "dtype('uint8')"
      ]
     },
     "execution_count": 4,
     "metadata": {},
     "output_type": "execute_result"
    }
   ],
   "source": [
    "X_train_full.dtype"
   ]
  },
  {
   "cell_type": "markdown",
   "metadata": {},
   "source": [
    "### 데이터 정규화 및 검증 세트 생성"
   ]
  },
  {
   "cell_type": "code",
   "execution_count": 5,
   "metadata": {},
   "outputs": [],
   "source": [
    "X_valid, X_train = X_train_full[:5000] / 255.0, X_train_full[5000:] / 255.0\n",
    "y_valid, y_train = y_train_full[:5000], y_train_full[5000:]\n",
    "X_test = X_test_full / 255.0"
   ]
  },
  {
   "cell_type": "code",
   "execution_count": 6,
   "metadata": {},
   "outputs": [],
   "source": [
    "# create list of class labels\n",
    "class_names = [\"T_shirt/top\", \"Trouser\", \"Pullover\", \"Dress\", \"Coat\", \"Sandal\", \"Shirt\",\n",
    "              \"Sneaker\", \"Bag\", \"Ankle boot\"]"
   ]
  },
  {
   "cell_type": "markdown",
   "metadata": {},
   "source": [
    "### Sequential API를 이용한 분류기 생성"
   ]
  },
  {
   "cell_type": "code",
   "execution_count": 7,
   "metadata": {},
   "outputs": [],
   "source": [
    "# create sequential model using Keras API\n",
    "model = keras.models.Sequential()\n",
    "model.add(keras.layers.Flatten(input_shape=[28, 28]))\n",
    "model.add(keras.layers.Dense(300, activation=\"relu\"))\n",
    "model.add(keras.layers.Dense(100, activation=\"relu\"))\n",
    "model.add(keras.layers.Dense(10, activation=\"softmax\"))"
   ]
  },
  {
   "cell_type": "code",
   "execution_count": 8,
   "metadata": {},
   "outputs": [
    {
     "name": "stdout",
     "output_type": "stream",
     "text": [
      "Model: \"sequential\"\n",
      "_________________________________________________________________\n",
      "Layer (type)                 Output Shape              Param #   \n",
      "=================================================================\n",
      "flatten (Flatten)            (None, 784)               0         \n",
      "_________________________________________________________________\n",
      "dense (Dense)                (None, 300)               235500    \n",
      "_________________________________________________________________\n",
      "dense_1 (Dense)              (None, 100)               30100     \n",
      "_________________________________________________________________\n",
      "dense_2 (Dense)              (None, 10)                1010      \n",
      "=================================================================\n",
      "Total params: 266,610\n",
      "Trainable params: 266,610\n",
      "Non-trainable params: 0\n",
      "_________________________________________________________________\n"
     ]
    },
    {
     "data": {
      "text/plain": [
       "'\\nor you can visualize it with ease using the code below:\\n\\nfrom tensorflow.keras.utils import plot_model\\n\\nplot_model(model)\\n'"
      ]
     },
     "execution_count": 8,
     "metadata": {},
     "output_type": "execute_result"
    }
   ],
   "source": [
    "model.summary()\n",
    "\n",
    "\"\"\"\n",
    "or you can visualize it with ease using the code below:\n",
    "\n",
    "from tensorflow.keras.utils import plot_model\n",
    "\n",
    "plot_model(model)\n",
    "\"\"\""
   ]
  },
  {
   "cell_type": "code",
   "execution_count": 9,
   "metadata": {},
   "outputs": [],
   "source": [
    "# compile the model\n",
    "model.compile(loss=\"sparse_categorical_crossentropy\",\n",
    "             optimizer=\"sgd\",\n",
    "             metrics=[\"accuracy\"])"
   ]
  },
  {
   "cell_type": "markdown",
   "metadata": {},
   "source": [
    "### 모델 학습"
   ]
  },
  {
   "cell_type": "code",
   "execution_count": 10,
   "metadata": {},
   "outputs": [
    {
     "name": "stdout",
     "output_type": "stream",
     "text": [
      "Epoch 1/30\n",
      "1719/1719 - 2s - loss: 0.7103 - accuracy: 0.7667 - val_loss: 0.5214 - val_accuracy: 0.8138\n",
      "Epoch 2/30\n",
      "1719/1719 - 1s - loss: 0.4884 - accuracy: 0.8306 - val_loss: 0.4716 - val_accuracy: 0.8328\n",
      "Epoch 3/30\n",
      "1719/1719 - 1s - loss: 0.4434 - accuracy: 0.8445 - val_loss: 0.4252 - val_accuracy: 0.8584\n",
      "Epoch 4/30\n",
      "1719/1719 - 1s - loss: 0.4156 - accuracy: 0.8556 - val_loss: 0.4091 - val_accuracy: 0.8618\n",
      "Epoch 5/30\n",
      "1719/1719 - 1s - loss: 0.3945 - accuracy: 0.8630 - val_loss: 0.4203 - val_accuracy: 0.8472\n",
      "Epoch 6/30\n",
      "1719/1719 - 1s - loss: 0.3780 - accuracy: 0.8670 - val_loss: 0.3784 - val_accuracy: 0.8676\n",
      "Epoch 7/30\n",
      "1719/1719 - 1s - loss: 0.3640 - accuracy: 0.8718 - val_loss: 0.3636 - val_accuracy: 0.8714\n",
      "Epoch 8/30\n",
      "1719/1719 - 1s - loss: 0.3531 - accuracy: 0.8755 - val_loss: 0.3476 - val_accuracy: 0.8788\n",
      "Epoch 9/30\n",
      "1719/1719 - 1s - loss: 0.3429 - accuracy: 0.8783 - val_loss: 0.3748 - val_accuracy: 0.8702\n",
      "Epoch 10/30\n",
      "1719/1719 - 1s - loss: 0.3333 - accuracy: 0.8805 - val_loss: 0.3415 - val_accuracy: 0.8784\n",
      "Epoch 11/30\n",
      "1719/1719 - 1s - loss: 0.3242 - accuracy: 0.8853 - val_loss: 0.3390 - val_accuracy: 0.8814\n",
      "Epoch 12/30\n",
      "1719/1719 - 1s - loss: 0.3168 - accuracy: 0.8875 - val_loss: 0.3394 - val_accuracy: 0.8792\n",
      "Epoch 13/30\n",
      "1719/1719 - 1s - loss: 0.3095 - accuracy: 0.8897 - val_loss: 0.3307 - val_accuracy: 0.8830\n",
      "Epoch 14/30\n",
      "1719/1719 - 1s - loss: 0.3041 - accuracy: 0.8909 - val_loss: 0.3251 - val_accuracy: 0.8826\n",
      "Epoch 15/30\n",
      "1719/1719 - 1s - loss: 0.2960 - accuracy: 0.8943 - val_loss: 0.3258 - val_accuracy: 0.8828\n",
      "Epoch 16/30\n",
      "1719/1719 - 1s - loss: 0.2900 - accuracy: 0.8957 - val_loss: 0.3182 - val_accuracy: 0.8862\n",
      "Epoch 17/30\n",
      "1719/1719 - 1s - loss: 0.2856 - accuracy: 0.8975 - val_loss: 0.3129 - val_accuracy: 0.8882\n",
      "Epoch 18/30\n",
      "1719/1719 - 1s - loss: 0.2800 - accuracy: 0.8999 - val_loss: 0.3210 - val_accuracy: 0.8874\n",
      "Epoch 19/30\n",
      "1719/1719 - 1s - loss: 0.2745 - accuracy: 0.9017 - val_loss: 0.3220 - val_accuracy: 0.8850\n",
      "Epoch 20/30\n",
      "1719/1719 - 1s - loss: 0.2711 - accuracy: 0.9031 - val_loss: 0.3078 - val_accuracy: 0.8860\n",
      "Epoch 21/30\n",
      "1719/1719 - 1s - loss: 0.2655 - accuracy: 0.9039 - val_loss: 0.3062 - val_accuracy: 0.8884\n",
      "Epoch 22/30\n",
      "1719/1719 - 1s - loss: 0.2603 - accuracy: 0.9059 - val_loss: 0.3181 - val_accuracy: 0.8858\n",
      "Epoch 23/30\n",
      "1719/1719 - 1s - loss: 0.2563 - accuracy: 0.9080 - val_loss: 0.3091 - val_accuracy: 0.8866\n",
      "Epoch 24/30\n",
      "1719/1719 - 1s - loss: 0.2523 - accuracy: 0.9097 - val_loss: 0.3080 - val_accuracy: 0.8892\n",
      "Epoch 25/30\n",
      "1719/1719 - 1s - loss: 0.2478 - accuracy: 0.9110 - val_loss: 0.3037 - val_accuracy: 0.8928\n",
      "Epoch 26/30\n",
      "1719/1719 - 1s - loss: 0.2434 - accuracy: 0.9125 - val_loss: 0.3311 - val_accuracy: 0.8792\n",
      "Epoch 27/30\n",
      "1719/1719 - 1s - loss: 0.2394 - accuracy: 0.9137 - val_loss: 0.3057 - val_accuracy: 0.8906\n",
      "Epoch 28/30\n",
      "1719/1719 - 1s - loss: 0.2351 - accuracy: 0.9158 - val_loss: 0.3042 - val_accuracy: 0.8934\n",
      "Epoch 29/30\n",
      "1719/1719 - 1s - loss: 0.2323 - accuracy: 0.9173 - val_loss: 0.3026 - val_accuracy: 0.8948\n",
      "Epoch 30/30\n",
      "1719/1719 - 1s - loss: 0.2278 - accuracy: 0.9185 - val_loss: 0.3006 - val_accuracy: 0.8910\n"
     ]
    }
   ],
   "source": [
    "# train model and evaluate accuracy\n",
    "history = model.fit(X_train, y_train, epochs=30, \n",
    "                    validation_data=(X_valid, y_valid))"
   ]
  },
  {
   "cell_type": "code",
   "execution_count": 17,
   "metadata": {},
   "outputs": [
    {
     "data": {
      "image/png": "[encoded data removed]",
      "text/plain": [
       "<Figure size 576x360 with 1 Axes>"
      ]
     },
     "metadata": {
      "needs_background": "light"
     },
     "output_type": "display_data"
    }
   ],
   "source": [
    "# plot learning curve\n",
    "import pandas as pd\n",
    "import matplotlib.pyplot as plt\n",
    "\n",
    "pd.DataFrame(history.history).plot(figsize=(8,5))\n",
    "plt.grid(True)\n",
    "plt.gca().set_ylim(0, 1)\n",
    "plt.show()"
   ]
  },
  {
   "cell_type": "markdown",
   "metadata": {},
   "source": [
    "### 모델 평가 (테스트 세트에 대한 검증)"
   ]
  },
  {
   "cell_type": "code",
   "execution_count": 18,
   "metadata": {},
   "outputs": [
    {
     "name": "stdout",
     "output_type": "stream",
     "text": [
      "313/313 [==============================] - 0s 603us/step - loss: 0.3358 - accuracy: 0.8794\n"
     ]
    },
    {
     "data": {
      "text/plain": [
       "[0.3357910215854645, 0.8794000148773193]"
      ]
     },
     "execution_count": 18,
     "metadata": {},
     "output_type": "execute_result"
    }
   ],
   "source": [
    "# evaluate the model on the test data\n",
    "model.evaluate(X_test, y_test_full)"
   ]
  },
  {
   "cell_type": "markdown",
   "metadata": {},
   "source": [
    "## Keras Sequential API 이용하여 회귀용 MLP 만들기"
   ]
  },
  {
   "cell_type": "markdown",
   "metadata": {},
   "source": [
    "### 캘리포니아 집값 데이터셋 로드 및 전처리"
   ]
  },
  {
   "cell_type": "code",
   "execution_count": 19,
   "metadata": {},
   "outputs": [],
   "source": [
    "from sklearn.datasets import fetch_california_housing\n",
    "from sklearn.model_selection import train_test_split\n",
    "from sklearn.preprocessing import StandardScaler\n",
    "\n",
    "# download and load data\n",
    "housing = fetch_california_housing()\n",
    "\n",
    "# split the whole dataset into train/test\n",
    "X_train_full, X_test, y_train_full, y_test = train_test_split(\n",
    "    housing.data, housing.target)\n",
    "\n",
    "# create validation set\n",
    "X_train, X_valid, y_train, y_valid = train_test_split(\n",
    "    X_train_full, y_train_full)\n",
    "\n",
    "# scale the dataset\n",
    "scaler = StandardScaler()\n",
    "X_train = scaler.fit_transform(X_train)\n",
    "X_valid = scaler.transform(X_valid)\n",
    "X_test = scaler.transform(X_test)"
   ]
  },
  {
   "cell_type": "markdown",
   "metadata": {},
   "source": [
    "### 모델 생성 및 훈련\n",
    "\n",
    "데이터에 잡음이 많기 때문에 과대적합을 방지하는 차원에서 은닉층을 하나로 설정했다."
   ]
  },
  {
   "cell_type": "code",
   "execution_count": 20,
   "metadata": {},
   "outputs": [],
   "source": [
    "# create a model and compile it\n",
    "model = keras.models.Sequential([\n",
    "    keras.layers.Dense(30, activation=\"relu\", input_shape=X_train.shape[1:]),\n",
    "    keras.layers.Dense(1)\n",
    "])\n",
    "\n",
    "model.compile(loss=\"mean_squared_error\", optimizer=\"sgd\")"
   ]
  },
  {
   "cell_type": "code",
   "execution_count": 22,
   "metadata": {},
   "outputs": [
    {
     "name": "stdout",
     "output_type": "stream",
     "text": [
      "Epoch 1/20\n",
      "363/363 [==============================] - 0s 720us/step - loss: 0.3834 - val_loss: 0.3872\n",
      "Epoch 2/20\n",
      "363/363 [==============================] - 0s 595us/step - loss: 0.3819 - val_loss: 0.3880\n",
      "Epoch 3/20\n",
      "363/363 [==============================] - 0s 622us/step - loss: 0.3773 - val_loss: 0.3881\n",
      "Epoch 4/20\n",
      "363/363 [==============================] - 0s 604us/step - loss: 0.3790 - val_loss: 0.4132\n",
      "Epoch 5/20\n",
      "363/363 [==============================] - 0s 613us/step - loss: 0.3757 - val_loss: 0.3848\n",
      "Epoch 6/20\n",
      "363/363 [==============================] - 0s 614us/step - loss: 0.3721 - val_loss: 0.3758\n",
      "Epoch 7/20\n",
      "363/363 [==============================] - 0s 596us/step - loss: 0.3683 - val_loss: 0.3870\n",
      "Epoch 8/20\n",
      "363/363 [==============================] - 0s 600us/step - loss: 0.3709 - val_loss: 0.3792\n",
      "Epoch 9/20\n",
      "363/363 [==============================] - 0s 602us/step - loss: 0.3660 - val_loss: 0.3969\n",
      "Epoch 10/20\n",
      "363/363 [==============================] - 0s 600us/step - loss: 0.3676 - val_loss: 0.3970\n",
      "Epoch 11/20\n",
      "363/363 [==============================] - 0s 608us/step - loss: 0.3640 - val_loss: 0.3710\n",
      "Epoch 12/20\n",
      "363/363 [==============================] - 0s 604us/step - loss: 0.3614 - val_loss: 0.3807\n",
      "Epoch 13/20\n",
      "363/363 [==============================] - 0s 597us/step - loss: 0.3645 - val_loss: 0.3892\n",
      "Epoch 14/20\n",
      "363/363 [==============================] - 0s 632us/step - loss: 0.3592 - val_loss: 0.3759\n",
      "Epoch 15/20\n",
      "363/363 [==============================] - 0s 635us/step - loss: 0.3702 - val_loss: 0.3974\n",
      "Epoch 16/20\n",
      "363/363 [==============================] - 0s 613us/step - loss: 0.3676 - val_loss: 0.3746\n",
      "Epoch 17/20\n",
      "363/363 [==============================] - 0s 599us/step - loss: 0.3566 - val_loss: 0.3786\n",
      "Epoch 18/20\n",
      "363/363 [==============================] - 0s 602us/step - loss: 0.3526 - val_loss: 0.4721\n",
      "Epoch 19/20\n",
      "363/363 [==============================] - 0s 599us/step - loss: 0.3546 - val_loss: 0.3631\n",
      "Epoch 20/20\n",
      "363/363 [==============================] - 0s 692us/step - loss: 0.3522 - val_loss: 0.4266\n"
     ]
    }
   ],
   "source": [
    "# train the model and evaluate accuracy on validation set\n",
    "history = model.fit(X_train, y_train, epochs=20,\n",
    "                   validation_data=(X_valid, y_valid))"
   ]
  },
  {
   "cell_type": "code",
   "execution_count": 23,
   "metadata": {},
   "outputs": [
    {
     "data": {
      "image/png": "[encoded data removed]",
      "text/plain": [
       "<Figure size 576x360 with 1 Axes>"
      ]
     },
     "metadata": {
      "needs_background": "light"
     },
     "output_type": "display_data"
    }
   ],
   "source": [
    "# draw learning curve\n",
    "pd.DataFrame(history.history).plot(figsize=(8,5))\n",
    "plt.grid(True)\n",
    "plt.gca().set_ylim(0, 1)\n",
    "plt.show()"
   ]
  },
  {
   "cell_type": "markdown",
   "metadata": {},
   "source": [
    "### 모델 평가 (테스트 세트에 대한 검증)"
   ]
  },
  {
   "cell_type": "code",
   "execution_count": 24,
   "metadata": {},
   "outputs": [
    {
     "name": "stdout",
     "output_type": "stream",
     "text": [
      "162/162 [==============================] - 0s 422us/step - loss: 0.3712\n"
     ]
    }
   ],
   "source": [
    "# calculate MSE\n",
    "mse_test = model.evaluate(X_test, y_test)"
   ]
  },
  {
   "cell_type": "markdown",
   "metadata": {},
   "source": [
    "### Keras Functional API 이용하여 회귀용 MLP 만들기\n",
    "\n",
    "Sequential API는 사용하기 편리하지만, 경우에 따라 단순히 순차적으로 데이터를 통과시키는 신경망만으로는 해결할 수 없는 문제들도 있다.  \n",
    "보다 자유로운 모델 수정을 위해 케라스는 함수형 API도 제공한다."
   ]
  },
  {
   "cell_type": "code",
   "execution_count": 25,
   "metadata": {},
   "outputs": [],
   "source": [
    "# single input, single output\n",
    "input_ = keras.layers.Input(shape=X_train.shape[1:])\n",
    "hidden1 = keras.layers.Dense(30, activation=\"relu\")(input_)\n",
    "hidden2 = keras.layers.Dense(30, activation=\"relu\")(hidden1)\n",
    "concat = keras.layers.Concatenate()([input_, hidden2])\n",
    "output = keras.layers.Dense(1)(concat)\n",
    "model = keras.Model(inputs=[input_], outputs=[output])"
   ]
  },
  {
   "cell_type": "code",
   "execution_count": 27,
   "metadata": {},
   "outputs": [],
   "source": [
    "# multiple input, single output\n",
    "input_A = keras.layers.Input(shape=[5], name=\"wide_input\")\n",
    "input_B = keras.layers.Input(shape=[6], name=\"deep_input\")\n",
    "hidden1 = keras.layers.Dense(30, activation=\"relu\")(input_B)\n",
    "hidden2 = keras.layers.Dense(30, activation=\"relu\")(hidden1)\n",
    "concat = keras.layers.concatenate([input_A, hidden2])\n",
    "output = keras.layers.Dense(1, name=\"output\")(concat)\n",
    "model = keras.Model(inputs=[input_A, input_B], outputs=[output])"
   ]
  },
  {
   "cell_type": "code",
   "execution_count": 28,
   "metadata": {},
   "outputs": [],
   "source": [
    "model.compile(loss=\"mse\", optimizer=keras.optimizers.SGD(lr=1e-3))"
   ]
  },
  {
   "cell_type": "code",
   "execution_count": 29,
   "metadata": {},
   "outputs": [],
   "source": [
    "# split data to match the dimension of input\n",
    "X_train_A, X_train_B = X_train[:, :5], X_train[:, 2:]\n",
    "X_valid_A, X_valid_B = X_valid[:, :5], X_valid[:, 2:]\n",
    "X_test_A, X_test_B = X_test[:, :5], X_test[:, 2:]\n",
    "X_new_A, X_new_B = X_test_A[:3], X_test_B[:3]"
   ]
  },
  {
   "cell_type": "code",
   "execution_count": 30,
   "metadata": {},
   "outputs": [
    {
     "name": "stdout",
     "output_type": "stream",
     "text": [
      "Epoch 1/20\n",
      "363/363 [==============================] - 1s 894us/step - loss: 3.6390 - val_loss: 1.0538\n",
      "Epoch 2/20\n",
      "363/363 [==============================] - 0s 663us/step - loss: 0.9087 - val_loss: 0.7863\n",
      "Epoch 3/20\n",
      "363/363 [==============================] - 0s 660us/step - loss: 0.7106 - val_loss: 0.7006\n",
      "Epoch 4/20\n",
      "363/363 [==============================] - 0s 688us/step - loss: 0.6514 - val_loss: 0.6489\n",
      "Epoch 5/20\n",
      "363/363 [==============================] - 0s 661us/step - loss: 0.5960 - val_loss: 0.6116\n",
      "Epoch 6/20\n",
      "363/363 [==============================] - 0s 714us/step - loss: 0.5774 - val_loss: 0.5877\n",
      "Epoch 7/20\n",
      "363/363 [==============================] - 0s 671us/step - loss: 0.5286 - val_loss: 0.5644\n",
      "Epoch 8/20\n",
      "363/363 [==============================] - 0s 660us/step - loss: 0.5491 - val_loss: 0.5478\n",
      "Epoch 9/20\n",
      "363/363 [==============================] - 0s 681us/step - loss: 0.5215 - val_loss: 0.5342\n",
      "Epoch 10/20\n",
      "363/363 [==============================] - 0s 670us/step - loss: 0.5102 - val_loss: 0.5252\n",
      "Epoch 11/20\n",
      "363/363 [==============================] - 0s 659us/step - loss: 0.4795 - val_loss: 0.5144\n",
      "Epoch 12/20\n",
      "363/363 [==============================] - 0s 683us/step - loss: 0.4791 - val_loss: 0.5071\n",
      "Epoch 13/20\n",
      "363/363 [==============================] - 0s 685us/step - loss: 0.4746 - val_loss: 0.5008\n",
      "Epoch 14/20\n",
      "363/363 [==============================] - 0s 661us/step - loss: 0.4844 - val_loss: 0.4945\n",
      "Epoch 15/20\n",
      "363/363 [==============================] - 0s 711us/step - loss: 0.4761 - val_loss: 0.4911\n",
      "Epoch 16/20\n",
      "363/363 [==============================] - 0s 694us/step - loss: 0.4615 - val_loss: 0.4893\n",
      "Epoch 17/20\n",
      "363/363 [==============================] - 0s 669us/step - loss: 0.4553 - val_loss: 0.4843\n",
      "Epoch 18/20\n",
      "363/363 [==============================] - 0s 680us/step - loss: 0.4556 - val_loss: 0.4807\n",
      "Epoch 19/20\n",
      "363/363 [==============================] - 0s 669us/step - loss: 0.4762 - val_loss: 0.4793\n",
      "Epoch 20/20\n",
      "363/363 [==============================] - 0s 731us/step - loss: 0.4381 - val_loss: 0.4757\n"
     ]
    }
   ],
   "source": [
    "# fit model\n",
    "history = model.fit((X_train_A, X_train_B), y_train, epochs=20,\n",
    "                   validation_data=((X_valid_A, X_valid_B), y_valid))"
   ]
  },
  {
   "cell_type": "code",
   "execution_count": 31,
   "metadata": {},
   "outputs": [
    {
     "name": "stdout",
     "output_type": "stream",
     "text": [
      "162/162 [==============================] - 0s 495us/step - loss: 0.4474\n"
     ]
    }
   ],
   "source": [
    "# evaluate the model on test data\n",
    "mse_test = model.evaluate((X_test_A, X_test_B), y_test)"
   ]
  },
  {
   "cell_type": "code",
   "execution_count": null,
   "metadata": {},
   "outputs": [],
   "source": []
  }
 ],
 "metadata": {
  "kernelspec": {
   "display_name": "hands-on-ml",
   "language": "python",
   "name": "dvelopery0115"
  },
  "language_info": {
   "codemirror_mode": {
    "name": "ipython",
    "version": 3
   },
   "file_extension": ".py",
   "mimetype": "text/x-python",
   "name": "python",
   "nbconvert_exporter": "python",
   "pygments_lexer": "ipython3",
   "version": "3.8.5"
  }
 },
 "nbformat": 4,
 "nbformat_minor": 4
}
