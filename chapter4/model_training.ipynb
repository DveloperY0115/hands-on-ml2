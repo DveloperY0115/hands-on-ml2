{
  "cells":[
    {
      "cell_type":"markdown",
      "source":[
        "## Model Training"
      ],
      "metadata":{
        
      }
    },
    {
      "cell_type":"markdown",
      "source":[
        "Machine learning is kinda solving optimization problems.\n",
        "\n",
        "Many parameters of a model governs the output, and our interest is to keep the result of model's computation  \n",
        "as close as possible to the real observations."
      ],
      "metadata":{
        
      }
    },
    {
      "cell_type":"markdown",
      "source":[
        "## Linear Regression - Noisy Data"
      ],
      "metadata":{
        
      }
    },
    {
      "cell_type":"code",
      "source":[
        "# prepare noisy, linear distribution\n",
        "import numpy as np\n",
        "\n",
        "X = 2 * np.random.rand(100, 1)\n",
        "y = 4 + 3 * X + np.random.randn(100, 1)\n",
        "# slope = 3, bias = 4"
      ],
      "execution_count":2,
      "outputs":[
        
      ],
      "metadata":{
        
      }
    },
    {
      "cell_type":"markdown",
      "source":[
        "### Solution by Normal Equation"
      ],
      "metadata":{
        
      }
    },
    {
      "cell_type":"code",
      "source":[
        "# Apply normal equation (Solve problem analytically)\n",
        "\n",
        "X_b = np.c_[np.ones((100, 1)), X]\n",
        "\n",
        "print(X_b.shape)\n",
        "\n",
        "theta_best = np.linalg.inv(X_b.T.dot(X_b)).dot(X_b.T).dot(y)\n",
        "\n",
        "print(theta_best)"
      ],
      "execution_count":3,
      "outputs":[
        {
          "name":"stdout",
          "text":[
            "(100, 2)\n",
            "[[3.58416294]\n",
            " [3.20404128]]\n"
          ],
          "output_type":"stream"
        }
      ],
      "metadata":{
        
      }
    },
    {
      "cell_type":"code",
      "source":[
        "# plot the result\n",
        "X_new = np.array([[0], [2]])\n",
        "X_new_b = np.c_[np.ones((2, 1)), X_new]\n",
        "y_predict = X_new_b.dot(theta_best)\n",
        "\n",
        "import matplotlib.pyplot as plt\n",
        "plt.plot(X_new, y_predict, \"r-\", label=\"Prediction\")\n",
        "plt.plot(X, y, \"b.\", label=\"Observations\")\n",
        "plt.legend()\n",
        "plt.axis([0, 2, 0, 15])\n",
        "plt.show()"
      ],
      "execution_count":4,
      "outputs":[
        {
          "data":{
            "image\/png":"[encoded data removed]"
          },
          "metadata":{
            "image\/png":{
              "width":0,
              "height":0
            }
          },
          "output_type":"display_data"
        }
      ],
      "metadata":{
        
      }
    },
    {
      "cell_type":"markdown",
      "source":[
        "### Solution by sklearn's LinearRegression"
      ],
      "metadata":{
        
      }
    },
    {
      "cell_type":"code",
      "source":[
        "from sklearn.linear_model import LinearRegression\n",
        "\n",
        "lin_reg = LinearRegression()\n",
        "lin_reg.fit(X, y)\n",
        "lin_reg.intercept_, lin_reg.coef_"
      ],
      "execution_count":5,
      "outputs":[
        {
          "data":{
            "text\/plain":[
              "(array([3.58416294]), array([[3.20404128]]))"
            ]
          },
          "metadata":{
            
          },
          "output_type":"display_data"
        }
      ],
      "metadata":{
        
      }
    },
    {
      "cell_type":"code",
      "source":[
        "lin_reg.predict(X_new)"
      ],
      "execution_count":6,
      "outputs":[
        {
          "data":{
            "text\/plain":[
              "array([[3.58416294],\n",
              "       [9.9922455 ]])"
            ]
          },
          "metadata":{
            
          },
          "output_type":"display_data"
        }
      ],
      "metadata":{
        
      }
    },
    {
      "cell_type":"markdown",
      "source":[
        "### Drawback of solution by analytic methods\n",
        "\n",
        "It's computationally expensive. In Big-O notations, calculating matrix multiplication of sizes $n+1$ is $O(n^{2.4})$ ~ $O(n^3)$"
      ],
      "metadata":{
        
      }
    },
    {
      "cell_type":"markdown",
      "source":[
        "## Gradient Descent\n",
        "\n",
        "**Important Parameter**: learning rate $\\eta$\n",
        "\n",
        "If $\\eta$ is too small, it takes too long for the algorithm to converge.   \n",
        "On the other hand, if it's too large, the algorithm may overshoot, in short, it bounces off arbitrarily."
      ],
      "metadata":{
        
      }
    },
    {
      "cell_type":"markdown",
      "source":[
        "### Batch Gradient Descent \n",
        "\n",
        "The gradient of cost function can be calculated using the formula\n",
        "\n",
        "$\\nabla_{\\theta} MSE(\\theta) = \\frac{2}{m} X^{T}(X\\theta - y)$ "
      ],
      "metadata":{
        
      }
    },
    {
      "cell_type":"code",
      "source":[
        "eta = 0.1\n",
        "n_iter = 1000\n",
        "m = 100\n",
        "\n",
        "theta = np.random.randn(2, 1)\n",
        "\n",
        "for i in range(n_iter):\n",
        "    grad = (2\/m)*X_b.T.dot(X_b.dot(theta) - y)\n",
        "    theta = theta - eta * grad"
      ],
      "execution_count":7,
      "outputs":[
        
      ],
      "metadata":{
        
      }
    },
    {
      "cell_type":"code",
      "source":[
        "theta"
      ],
      "execution_count":8,
      "outputs":[
        {
          "data":{
            "text\/plain":[
              "array([[3.58416294],\n",
              "       [3.20404128]])"
            ]
          },
          "metadata":{
            
          },
          "output_type":"display_data"
        }
      ],
      "metadata":{
        
      }
    },
    {
      "cell_type":"markdown",
      "source":[
        "### Stochastic Gradient Descent"
      ],
      "metadata":{
        
      }
    },
    {
      "cell_type":"code",
      "source":[
        "n_epochs = 100\n",
        "t0, t1 = 5, 50\n",
        "m = X_b.shape[0]\n",
        "\n",
        "def learning_schedule(t):\n",
        "    return t0 \/ (t + t1)\n",
        "\n",
        "theta = np.random.randn(2, 1) # initialize parameters randomly\n",
        "\n",
        "for epoch in range(n_epochs):\n",
        "    for i in range(m):\n",
        "        random_idx = np.random.randint(m)\n",
        "        xi = X_b[random_idx:random_idx+1]\n",
        "        yi = y[random_idx:random_idx+1]\n",
        "        gradients = 2 * xi.T.dot(xi.dot(theta) - yi)\n",
        "        eta = learning_schedule(epoch * m + i)\n",
        "        theta = theta - eta * gradients"
      ],
      "execution_count":11,
      "outputs":[
        
      ],
      "metadata":{
        
      }
    },
    {
      "cell_type":"code",
      "source":[
        "theta"
      ],
      "execution_count":12,
      "outputs":[
        {
          "data":{
            "text\/plain":[
              "array([[3.57514216],\n",
              "       [3.22064351]])"
            ]
          },
          "metadata":{
            
          },
          "output_type":"display_data"
        }
      ],
      "metadata":{
        
      }
    },
    {
      "cell_type":"markdown",
      "source":[
        "### Mini-Batch Gradient Descent\n",
        "\n",
        "However, due to the randomness that SGD leans on, SGD sometimes shows unexpected results because of its inherent unstability.\n",
        "\n",
        "How can we deal with this problem?\n",
        "\n",
        "One way is to use not a single, but bunch of data at once for gradient at each step.\n",
        "\n",
        "It's simple. We randomly choose a subset of entire dataset and then calculate gradient, and update theta."
      ],
      "metadata":{
        
      }
    },
    {
      "cell_type":"code",
      "source":[
        "n_epochs = 100\n",
        "t0, t1 = 5, 50\n",
        "m = X_b.shape[0]\n",
        "\n",
        "def learning_schedule(t):\n",
        "    return t0 \/ (t + t1)\n",
        "\n",
        "theta = np.random.randn(2, 1) # initialize parameters randomly\n",
        "\n",
        "for epoch in range(n_epochs):\n",
        "    for i in range(m):\n",
        "        random_idx = list(np.random.randint(m, size=10))    # randomly collect 10 samples from the dataset\n",
        "        xi = X_b[random_idx]\n",
        "        yi = y[random_idx]\n",
        "        gradients = 2 * xi.T.dot(xi.dot(theta) - yi)\n",
        "        eta = learning_schedule(epoch * m + i)\n",
        "        theta = theta - eta * gradients"
      ],
      "execution_count":13,
      "outputs":[
        
      ],
      "metadata":{
        
      }
    },
    {
      "cell_type":"code",
      "source":[
        "theta"
      ],
      "execution_count":14,
      "outputs":[
        {
          "data":{
            "text\/plain":[
              "array([[3.5985145 ],\n",
              "       [3.19492012]])"
            ]
          },
          "metadata":{
            
          },
          "output_type":"display_data"
        }
      ],
      "metadata":{
        
      }
    },
    {
      "cell_type":"markdown",
      "source":[
        "## Polynomial Regression"
      ],
      "metadata":{
        
      }
    },
    {
      "cell_type":"code",
      "source":[
        "m = 100\n",
        "X = 6 * np.random.rand(m, 1) - 3\n",
        "y = 0.5 * X**2 + X + 2 + np.random.randn(m, 1)"
      ],
      "execution_count":15,
      "outputs":[
        
      ],
      "metadata":{
        
      }
    },
    {
      "cell_type":"code",
      "source":[
        "from sklearn.preprocessing import PolynomialFeatures\n",
        "\n",
        "poly_features = PolynomialFeatures(degree=2, include_bias=False)\n",
        "X_poly = poly_features.fit_transform(X)\n",
        "print(X[0], X_poly[0])"
      ],
      "execution_count":17,
      "outputs":[
        {
          "name":"stdout",
          "text":[
            "[-0.97351227] [-0.97351227  0.94772614]\n"
          ],
          "output_type":"stream"
        }
      ],
      "metadata":{
        
      }
    },
    {
      "cell_type":"code",
      "source":[
        "lin_reg = LinearRegression()\n",
        "lin_reg.fit(X_poly, y)\n",
        "lin_reg.intercept_, lin_reg.coef_"
      ],
      "execution_count":18,
      "outputs":[
        {
          "data":{
            "text\/plain":[
              "(array([1.93988604]), array([[1.01786008, 0.49143164]]))"
            ]
          },
          "metadata":{
            
          },
          "output_type":"display_data"
        }
      ],
      "metadata":{
        
      }
    },
    {
      "cell_type":"markdown",
      "source":[
        "## Applying regulations on the models\n",
        "\n",
        "Ridge, Lasso, and Elastic net --> Refer to books. They can be done by providing additional parameter to regressor"
      ],
      "metadata":{
        
      }
    },
    {
      "cell_type":"code",
      "source":[
        
      ],
      "execution_count":null,
      "outputs":[
        
      ],
      "metadata":{
        
      }
    }
  ],
  "metadata":{
    
  },
  "nbformat":4,
  "nbformat_minor":0
}